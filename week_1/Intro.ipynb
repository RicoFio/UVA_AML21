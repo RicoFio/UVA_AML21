{
 "cells": [
  {
   "cell_type": "markdown",
   "metadata": {
    "slideshow": {
     "slide_type": "slide"
    }
   },
   "source": [
    "# Applied Machine Learning"
   ]
  },
  {
   "cell_type": "markdown",
   "metadata": {
    "slideshow": {
     "slide_type": "slide"
    }
   },
   "source": [
    "## Table of contents\n",
    "* [1. Notebook General Info](#1.-Notebook-General-Info)\n",
    "* [2. Python Basics](#2.-Python-Basics)\n",
    "    * [2.1 Basic Types](#2.1-Basic-Types)\n",
    "    * [2.2 Lists and Tuples](#2.2-Lists-and-Tuples)\n",
    "    * [2.3 Dictionaries](#2.3-Dictionaries)\n",
    "    * [2.4 Conditions](#2.4-Conditions)\n",
    "    * [2.5 Loops](#2.5-Loops)\n",
    "    * [2.6 Functions](#2.6-Functions)\n",
    "* [3. NumPy Basics](#3.-NumPy-Basics)\n",
    "    * [3.1 Arrays](#3.1-Arrays)\n",
    "    * [3.2 Functions and Operations](#3.2-Functions-and-Operations)\n",
    "    * [3.3 Miscellaneous](#3.3-Miscellaneous)\n",
    "* [4. Visualization with Matplotlib](#4.-Visualization-with-Matplotlib)\n",
    "* [5. Nearest Neighbor Classification](#5.-Nearest-Neighbor-Classification)\n",
    "    * [5.1 Digits Dataset](#5.1-Digits-Dataset)\n",
    "    * [5.2 Distances](#5.2-Distances)\n",
    "    * [5.3 Performance Experiments](#5.3-Performance-Experiments)\n",
    "    * [5.4 Classification](#5.4-Classification)\n",
    "* [6. Linear Algebra Basics](#6.-Linear-Algebra-Basics)"
   ]
  },
  {
   "cell_type": "markdown",
   "metadata": {
    "slideshow": {
     "slide_type": "slide"
    }
   },
   "source": [
    "## 1. Notebook General Info"
   ]
  },
  {
   "cell_type": "markdown",
   "metadata": {
    "slideshow": {
     "slide_type": "slide"
    }
   },
   "source": [
    "### Structure\n",
    "- Notebooks consist of **cells** \n",
    "- During this course we will use **Code** and **Markdown** cells\n",
    "- Code in the cells is executed by pressing **Shift + Enter**. It also renders Markdown\n",
    "- To edit a cell, double-click on it."
   ]
  },
  {
   "cell_type": "markdown",
   "metadata": {
    "slideshow": {
     "slide_type": "fragment"
    }
   },
   "source": [
    "### Markdown\n",
    "\n",
    "* Markdown is a lightweight markup language.\n",
    "* You can emphasize the words: *word*, ~~word~~, **word**\n",
    "* You can make lists\n",
    "\n",
    "    - item 1\n",
    "    - item 2\n",
    "        - subitem 2.1\n",
    "        - subitem 2.2\n",
    "        \n",
    "* And tables, as well\n",
    "        \n",
    "| Language |Filename extension| First appeared |\n",
    "|---------:|:----------------:|:--------------:|\n",
    "|C         | `.h`, `.c`       | 1972           |\n",
    "|C++       | `.h`, `.cpp`     | 1983           |\n",
    "|Swift     | `.swift`         | 2014           |\n",
    "|Python    | `.py`            | 1991           |\n",
    "\n",
    "\n",
    "* Markdown allows you to add a code listing. \n",
    "\n",
    "```\n",
    "def sum(a, b):\n",
    "      return a + b\n",
    "```\n",
    "\n",
    "* You can even add math expressions. Both inline $e^{i \\phi} = \\sin(\\phi) + i \\cos(\\phi)$ and centered:\n",
    "$$\n",
    "\\int\\limits_{-\\infty}^{\\infty} e^{-x^2}dx = \\sqrt{\\pi}\n",
    "$$\n",
    "\n",
    "* You can also add images, even from the remote resources:\n",
    "\n",
    "![](http://technobotss.mdek12.org/wp-content/uploads/2016/09/Markdown-mark.png)\n",
    "\n",
    "* Markdown allows one to add hyperlinks. There is a good [Markdown Cheatsheet](https://github.com/adam-p/markdown-here/wiki/Markdown-Cheatsheet)."
   ]
  },
  {
   "cell_type": "markdown",
   "metadata": {},
   "source": [
    "### Code\n",
    "* We will use Python. \n",
    "* It is an interpreted language. \n",
    "* When you execute the cell by pressing **Shift + Enter**, the code is interpreted line-by-line. "
   ]
  },
  {
   "cell_type": "markdown",
   "metadata": {},
   "source": [
    "## 2. Python Basics"
   ]
  },
  {
   "cell_type": "markdown",
   "metadata": {},
   "source": [
    "Useful links:\n",
    "\n",
    "* CodeAcademy https://www.codecademy.com/en/tracks/python (recommended if you are new to Python!)\n",
    "* The Hitchhiker’s Guide to Python http://docs.python-guide.org/en/latest/\n",
    "* Video tutorials by *sentdex*: [Python 3 Basic Tutorial Series](https://www.youtube.com/watch?v=oVp1vrfL_w4&list=PLQVvvaa0QuDe8XSftW-RAxdo6OmaeL85M), [Intermediate Python Programming](https://www.youtube.com/watch?v=YSe9Tu_iNQQ&list=PLQVvvaa0QuDfju7ADVp5W1GF9jVhjbX-_)\n",
    "\n",
    "Some interesting talks from conferences:\n",
    "* David Beazley: [Built in Super Heroes](https://youtu.be/lyDLAutA88s), [Modules and Packages](https://youtu.be/0oTh1CXRaQ0)\n",
    "* Raymond Hettinger: [Transforming Code into Beautiful](https://youtu.be/OSGv2VnC0go), [ Beyond PEP 8](https://youtu.be/wf-BqAjZb8M)"
   ]
  },
  {
   "cell_type": "markdown",
   "metadata": {},
   "source": [
    "### 2.1 Basic Types"
   ]
  },
  {
   "cell_type": "markdown",
   "metadata": {},
   "source": [
    "* Python is dynamically typed: you do not specify the type of a variable. Just `my_var = 1`\n",
    "* Python is strongly typed: you can not add integer to string or None to integer"
   ]
  },
  {
   "cell_type": "code",
   "execution_count": 7,
   "metadata": {},
   "outputs": [],
   "source": [
    "# For now, this is just a magic\n",
    "from __future__ import print_function, division"
   ]
  },
  {
   "cell_type": "code",
   "execution_count": 8,
   "metadata": {},
   "outputs": [
    {
     "name": "stdout",
     "output_type": "stream",
     "text": [
      "2\n",
      "6.0\n",
      "Hello World\n",
      "Hello World 42\n",
      "False\n",
      "My first program is:\"Hello World\"\n",
      "My first program is:\"Hello World\"\n",
      "My first program is:\"Hello World\"\n"
     ]
    }
   ],
   "source": [
    "# Integer\n",
    "import math\n",
    "\n",
    "a = 2\n",
    "print(a)\n",
    "\n",
    "# Float\n",
    "a += 4.0 \n",
    "print(a)\n",
    "\n",
    "# String\n",
    "b  = \"Hello World\" \n",
    "print(b)\n",
    "print(b + ' ' + str(42))\n",
    "\n",
    "# Boolean\n",
    "first_bool_here = False \n",
    "print(first_bool_here)\n",
    "\n",
    "# This is how formatting works\n",
    "print('My first program is:\"%s\"' % b) # old style\n",
    "print('My first program is:\"{}\"'.format(b)) # new style\n",
    "print(f'My first program is:\"{b}\"') # even newer style"
   ]
  },
  {
   "cell_type": "code",
   "execution_count": 9,
   "metadata": {},
   "outputs": [
    {
     "name": "stdout",
     "output_type": "stream",
     "text": [
      "8.4\n",
      "8\n",
      "2\n"
     ]
    }
   ],
   "source": [
    "num = 42\n",
    "print(42 / 5) # a regular division\n",
    "print(42 // 5) # an integer division\n",
    "print(42 % 5) # a remainder"
   ]
  },
  {
   "cell_type": "markdown",
   "metadata": {},
   "source": [
    "### 2.2 Lists and Tuples"
   ]
  },
  {
   "cell_type": "markdown",
   "metadata": {},
   "source": [
    "* `list` and `tuple` are the array-like types in Python\n",
    "* `list` is mutable. `tuple` is immutable\n",
    "* `list` is represented as `[...]`, `tuple` as `(...)`\n",
    "* They both can store different types at the same time\n",
    "* The index of the first element is `0`, it is called 'zero-indexed'"
   ]
  },
  {
   "cell_type": "code",
   "execution_count": 10,
   "metadata": {},
   "outputs": [
    {
     "name": "stdout",
     "output_type": "stream",
     "text": [
      "[1, 2, 3]\n",
      "['1st', '2nd', '3rd']\n",
      "3\n",
      "['1st', '2nd', '3rd', 2]\n",
      "['1st', '2nd', 0, '3rd', 2]\n",
      "['1st', 'new', 0, '3rd', 2]\n"
     ]
    }
   ],
   "source": [
    "# Lists\n",
    "empty_list = [] # creates an empty list\n",
    "list1 = [1, 2, 3] # creates a list with elements\n",
    "list2 = ['1st', '2nd', '3rd']\n",
    "print(list1) # prints the list\n",
    "print(list2)\n",
    "\n",
    "print(len(list2)) # prints the length of the list\n",
    "\n",
    "list2.append(2) # appends the item at the end\n",
    "print(list2) # prints the appended list\n",
    "\n",
    "list2.insert(2, 0) # inserts 0 at index 3 (zero-indexed)\n",
    "print(list2)   \n",
    "\n",
    "list2[1] = 'new' # changes the second element of the list (lists are mutable)\n",
    "print(list2)"
   ]
  },
  {
   "cell_type": "code",
   "execution_count": 11,
   "metadata": {},
   "outputs": [
    {
     "name": "stdout",
     "output_type": "stream",
     "text": [
      "6\n"
     ]
    }
   ],
   "source": [
    "# You can create a list of lists:\n",
    "list_of_lists = [[1, 2, 3], [4, 5, 6], [7, 8, 9]]\n",
    "print(list_of_lists[1][2]) # second list, third element"
   ]
  },
  {
   "cell_type": "code",
   "execution_count": 16,
   "metadata": {},
   "outputs": [
    {
     "name": "stdout",
     "output_type": "stream",
     "text": [
      "(1, 'orange', 'fly', 32, None)\n"
     ]
    },
    {
     "ename": "TypeError",
     "evalue": "'tuple' object does not support item assignment",
     "output_type": "error",
     "traceback": [
      "\u001B[1;31m---------------------------------------------------------------------------\u001B[0m",
      "\u001B[1;31mTypeError\u001B[0m                                 Traceback (most recent call last)",
      "\u001B[1;32m<ipython-input-16-b05e88240a58>\u001B[0m in \u001B[0;36m<module>\u001B[1;34m\u001B[0m\n\u001B[0;32m      9\u001B[0m \u001B[0mprint\u001B[0m\u001B[1;33m(\u001B[0m\u001B[0msuper_tuple\u001B[0m\u001B[1;33m)\u001B[0m\u001B[1;33m\u001B[0m\u001B[1;33m\u001B[0m\u001B[0m\n\u001B[0;32m     10\u001B[0m \u001B[1;33m\u001B[0m\u001B[0m\n\u001B[1;32m---> 11\u001B[1;33m \u001B[0msuper_tuple\u001B[0m\u001B[1;33m[\u001B[0m\u001B[1;36m1\u001B[0m\u001B[1;33m]\u001B[0m \u001B[1;33m=\u001B[0m \u001B[1;34m'new'\u001B[0m \u001B[1;31m# trying to change an element of a tuple raises an error (tuples are immutable)\u001B[0m\u001B[1;33m\u001B[0m\u001B[1;33m\u001B[0m\u001B[0m\n\u001B[0m\u001B[0;32m     12\u001B[0m \u001B[1;33m\u001B[0m\u001B[0m\n",
      "\u001B[1;31mTypeError\u001B[0m: 'tuple' object does not support item assignment"
     ]
    }
   ],
   "source": [
    "# Tuples\n",
    "# Empty tuple can't be created. \n",
    "# It is immutable. So it is just nothing\n",
    "tuple1 = (1,) # Comma is necessary. Otherwise it is a number in parenthesis\n",
    "tuple2 = ('orange',)\n",
    "tuple3 = ('fly', 32, None)\n",
    "\n",
    "super_tuple = tuple1 + tuple2 + tuple3\n",
    "print(super_tuple)\n",
    "\n",
    "super_tuple[1] = 'new' # trying to change an element of a tuple raises an error (tuples are immutable)"
   ]
  },
  {
   "cell_type": "markdown",
   "metadata": {},
   "source": [
    "* Above we showed how to create and print lists. \n",
    "* How to find the length of the list and how to append or insert the items in an already created list. \n",
    "* There are several other operations which we can perform with lists:\n",
    "    * removing elements from the list \n",
    "    * joining two lists\n",
    "    * sorting\n",
    "    * etc\n",
    "\n",
    "There is an interesting [cheat sheet](http://www.pythonforbeginners.com/lists/python-lists-cheat-sheet/) you may find useful.\n",
    "\n",
    "Another very useful operation on lists is **Slicing**. It is a thing of Python.\n",
    "* Slicing allows you to access sublists\n",
    "* Slicing does not create a copy of the list when it is called\n",
    "* Slicing makes Python so useful for matrix manipulation"
   ]
  },
  {
   "cell_type": "code",
   "execution_count": 17,
   "metadata": {},
   "outputs": [
    {
     "name": "stdout",
     "output_type": "stream",
     "text": [
      "[2, 3, 4, 5, 6, 7, 8, 9, 10, 11, 12]\n",
      "[1, 2, 3, 4, 5, 6, 7, 8, 9, 10, 11]\n",
      "[2, 3, 4, 5, 6, 7, 8, 9, 10]\n",
      "[1, 3, 5, 7, 9, 11]\n",
      "[3, 5, 7, 9]\n"
     ]
    }
   ],
   "source": [
    "# This is the worst way of creating a list of consequent integers. \n",
    "# But now we use it just for demostration\n",
    "numbers = [1, 2, 3, 4, 5, 6, 7, 8, 9, 10, 11, 12]\n",
    "print(numbers[1:]) # You can slice it from the given index\n",
    "print(numbers[:-1]) # You can slice it till the given index\n",
    "print(numbers[1:-2]) # You can combine them\n",
    "print(numbers[::2]) # You can choose each second\n",
    "print(numbers[2:-2][::2]) # You can chain slicing"
   ]
  },
  {
   "cell_type": "markdown",
   "metadata": {},
   "source": [
    "### 2.3 Dictionaries"
   ]
  },
  {
   "cell_type": "markdown",
   "metadata": {},
   "source": [
    "* Dictionary is a **Key-Value** storage\n",
    "* Dictionaries are mutable by default\n",
    "* Dictionaries are useful for linking items \n",
    "* In some versions of Python, dictionaries are sorted, in others, they are not."
   ]
  },
  {
   "cell_type": "code",
   "execution_count": 18,
   "metadata": {},
   "outputs": [
    {
     "name": "stdout",
     "output_type": "stream",
     "text": [
      "{'id': '0x123456', 'age': 28, 'authorized': True}\n",
      "dict_keys([1, 2, 3, 4, 5, 6, 7])\n",
      "{1: 'Mon', 2: 'Tues', 3: 'Wed', 4: 'Thu', 5: 'Fri', 6: 'Sat', 7: 'Sun'}\n",
      "28\n"
     ]
    }
   ],
   "source": [
    "emptydict = {} # creates empty dict\n",
    "user = {'id': '0x123456', 'age': 28, 'authorized': True}\n",
    "print(user)\n",
    "\n",
    "days = {\n",
    "    1: \"Mon\", \n",
    "    2: \"Tues\", \n",
    "    3: \"Wed\", \n",
    "    4: \"Thu\", \n",
    "    5: \"Fri\", \n",
    "    6: \"Sat\", \n",
    "    7: \"Sun\"\n",
    "} # A dict with items\n",
    "\n",
    "print(days.keys()) # prints keys\n",
    "print(days) # prints whole dict\n",
    "age = user['age'] # accesses the element of the dictionay with key 'age'\n",
    "print(age)"
   ]
  },
  {
   "cell_type": "code",
   "execution_count": 19,
   "metadata": {},
   "outputs": [
    {
     "name": "stdout",
     "output_type": "stream",
     "text": [
      "False\n",
      "{1: '1', '1': 1, 'one': False, 123: 321}\n"
     ]
    }
   ],
   "source": [
    "my_dict = {\n",
    "    1: '1',\n",
    "    '1': 1\n",
    "}\n",
    "# Keys are not casted. '1' and 1 are not the same key\n",
    "print(my_dict[1] == my_dict['1'])\n",
    "\n",
    "my_dict['one'] = False\n",
    "my_dict[123] = 321\n",
    "print(my_dict)"
   ]
  },
  {
   "cell_type": "markdown",
   "metadata": {},
   "source": [
    "For the further study of dictionary manipulation in Python refer to this [tutorial](http://www.pythonforbeginners.com/dictionary/dictionary-manipulation-in-python )."
   ]
  },
  {
   "cell_type": "markdown",
   "metadata": {},
   "source": [
    "### 2.4 Conditions"
   ]
  },
  {
   "cell_type": "code",
   "execution_count": 20,
   "metadata": {},
   "outputs": [
    {
     "name": "stdout",
     "output_type": "stream",
     "text": [
      "You can not see me\n"
     ]
    }
   ],
   "source": [
    "is_visible = False\n",
    "if is_visible:\n",
    "    print(\"I am visible\")\n",
    "else:\n",
    "    print(\"You can not see me\")"
   ]
  },
  {
   "cell_type": "markdown",
   "metadata": {},
   "source": [
    "As this is the first appearance of the nested structure, we must clarify the following:\n",
    "* In Python all nested code structures are defined by indentation.\n",
    "* Standard indentation is 4 spaces (or 1 tab)"
   ]
  },
  {
   "cell_type": "code",
   "execution_count": 21,
   "metadata": {},
   "outputs": [
    {
     "name": "stdout",
     "output_type": "stream",
     "text": [
      "Cat is here\n",
      "There are many animals but fish is not here\n",
      "At least one of my favorite animals is in the list\n"
     ]
    }
   ],
   "source": [
    "animals = ['cat', 'dog', 'monkey', 'elephant']\n",
    "\n",
    "if 'cat' in animals:\n",
    "    print('Cat is here')\n",
    "    \n",
    "if len(animals) > 2 and 'fish' not in animals:\n",
    "    print('There are many animals but fish is not here')\n",
    "    \n",
    "if 'whale' in animals or 'dog' in animals:\n",
    "    print('At least one of my favorite animals is in the list')"
   ]
  },
  {
   "cell_type": "code",
   "execution_count": 22,
   "metadata": {},
   "outputs": [
    {
     "name": "stdout",
     "output_type": "stream",
     "text": [
      "redirected\n"
     ]
    }
   ],
   "source": [
    "code = 345\n",
    "\n",
    "if code == 200:\n",
    "    print('success')\n",
    "elif code == 404:\n",
    "    print('page not found')\n",
    "elif 300 <= code < 400:\n",
    "    print('redirected')\n",
    "else:\n",
    "    print('unknown error')"
   ]
  },
  {
   "cell_type": "markdown",
   "metadata": {},
   "source": [
    "### 2.5 Loops"
   ]
  },
  {
   "cell_type": "markdown",
   "metadata": {},
   "source": [
    "* There are 2 types of loops in Python: `while` and `for`\n",
    "* `while` loop checks the condition before executing the loop body\n",
    "* `for` iterates over the sequence of elements "
   ]
  },
  {
   "cell_type": "code",
   "execution_count": 23,
   "metadata": {},
   "outputs": [
    {
     "name": "stdout",
     "output_type": "stream",
     "text": [
      "0\n",
      "1\n",
      "2\n"
     ]
    }
   ],
   "source": [
    "# while\n",
    "i = 0\n",
    "while i < 3:\n",
    "    print(i)\n",
    "    i += 1"
   ]
  },
  {
   "cell_type": "code",
   "execution_count": 24,
   "metadata": {},
   "outputs": [
    {
     "name": "stdout",
     "output_type": "stream",
     "text": [
      "cat\n",
      "dog\n",
      "monkey\n",
      "elephant\n",
      "\n",
      "Bad way:\n",
      "0\n",
      "1\n",
      "2\n",
      "3\n",
      "4\n",
      "\n",
      "Good way:\n",
      "0\n",
      "1\n",
      "2\n",
      "3\n",
      "4\n",
      "\n",
      "Advanced example:\n",
      "20\n",
      "18\n",
      "16\n",
      "14\n",
      "12\n",
      "10\n"
     ]
    }
   ],
   "source": [
    "# for loop\n",
    "for animal in animals:\n",
    "    print(animal)\n",
    "    \n",
    "# In order to make a c-like loop, \n",
    "# you have to create a list of consecutive numbers\n",
    "print('\\nBad way:')\n",
    "numbers = [0, 1, 2, 3, 4]\n",
    "for number in numbers:\n",
    "    print(number)\n",
    "    \n",
    "# As we already stated, it is not the best way of creating such lists\n",
    "# Here is the best way:\n",
    "print('\\nGood way:')\n",
    "for number in range(5):\n",
    "    print(number)\n",
    "\n",
    "print('\\nAdvanced example:')\n",
    "for number in reversed(range(10, 22, 2)):\n",
    "    print(number)"
   ]
  },
  {
   "cell_type": "markdown",
   "metadata": {},
   "source": [
    "### 2.6 Functions"
   ]
  },
  {
   "cell_type": "markdown",
   "metadata": {},
   "source": [
    "* functions are declared with `def` statement\n",
    "* function is an object, like float, string, etc."
   ]
  },
  {
   "cell_type": "code",
   "execution_count": 25,
   "metadata": {},
   "outputs": [
    {
     "name": "stdout",
     "output_type": "stream",
     "text": [
      "Hello AML students\n"
     ]
    }
   ],
   "source": [
    "def function_name():\n",
    "    print ('Hello AML students')\n",
    "    \n",
    "function_name()"
   ]
  },
  {
   "cell_type": "code",
   "execution_count": 26,
   "metadata": {},
   "outputs": [
    {
     "name": "stdout",
     "output_type": "stream",
     "text": [
      "16\n",
      "40\n"
     ]
    }
   ],
   "source": [
    "# Create a function that multiplies a number by 5 if it is above a given threshold, \n",
    "# otherwise square the input.\n",
    "def manipulate_number(number, threshold):\n",
    "    # Check whether the number is higher than the threshold.\n",
    "    if number > threshold:\n",
    "        return number * 5\n",
    "    else:\n",
    "        return number ** 2\n",
    "    \n",
    "print(manipulate_number(4, 6))\n",
    "print(manipulate_number(8, 7))"
   ]
  },
  {
   "cell_type": "code",
   "execution_count": 27,
   "metadata": {},
   "outputs": [
    {
     "name": "stdout",
     "output_type": "stream",
     "text": [
      "3.0\n",
      "3.0\n",
      "6.0\n"
     ]
    }
   ],
   "source": [
    "def linear(x, k, b=0): # b=0 if b is not specified in function call\n",
    "    return k * x + b\n",
    "\n",
    "print(linear(1, 3.0)) # we don't pass any keys of the arguments\n",
    "print(linear(k=1, x=3.0)) # we pass the keys, sometimes to reorder arguments. \n",
    "print(linear(1, k=3.0, b=3.0)) # we pass b=3. and specify it because b=3.0 is not the default value"
   ]
  },
  {
   "cell_type": "code",
   "execution_count": 28,
   "metadata": {},
   "outputs": [
    {
     "name": "stdout",
     "output_type": "stream",
     "text": [
      "True\n"
     ]
    }
   ],
   "source": [
    "def are_close(a, b):\n",
    "    return (a - b) ** 2 < 1e-6\n",
    "\n",
    "# Functions could be passed as arguments\n",
    "def evaluate(func, arg_1 ,arg_2):\n",
    "    return func(arg_1, arg_2)\n",
    "\n",
    "print(evaluate(are_close, 0.333, 1.0 / 3))"
   ]
  },
  {
   "cell_type": "markdown",
   "metadata": {},
   "source": [
    "* If you are still very new to Python:\n",
    "    * Implement some simple functions and print the results\n",
    "    * Please ask questions if pieces of code do not do what you want them to do\n",
    "* You can always get the information about the function just by caling **help**:\n",
    "\n",
    "```Python\n",
    "help(any_function)\n",
    "```\n",
    "* In Jupyter Notebook, you can also get the info by pushing **Tab Tab** with pressed **Shift**"
   ]
  },
  {
   "cell_type": "code",
   "execution_count": 29,
   "metadata": {},
   "outputs": [],
   "source": [
    "# Create here your own functions, if you want\n",
    "# Create a new cell by typing ctrl+b"
   ]
  },
  {
   "cell_type": "markdown",
   "metadata": {},
   "source": [
    "## 3. NumPy Basics"
   ]
  },
  {
   "cell_type": "markdown",
   "metadata": {},
   "source": [
    "* A very nice part of Python is that there are a lot of 3rd party libraries.\n",
    "* The most popular library for matrix manipulations / linear algebra is [**NumPy**](http://www.numpy.org/).\n",
    "* The official website says:\n",
    "> NumPy is the fundamental package for scientific computing with Python. \n",
    "\n",
    "* NumPy core functions are written in **C/C++** and **Fortran**. \n",
    "* NumPy functions work faster than pure Python functions (or at least with the same speed). "
   ]
  },
  {
   "cell_type": "code",
   "execution_count": 30,
   "metadata": {},
   "outputs": [],
   "source": [
    "# The first import\n",
    "import numpy as np"
   ]
  },
  {
   "cell_type": "markdown",
   "metadata": {
    "collapsed": true
   },
   "source": [
    "* Easy enough! \n",
    "* There are several ways of importing libraries:\n",
    "    * `import library` - import the full library. You can access its functions: `library.utils.somefunc(x)`\n",
    "    * `import library as lib` -  the same as above-described, but more convenient: `lib.utils.other_func(x, y)`\n",
    "    * `from library.utils import somefunc` - only one function is imported: `somefunc(x)`\n",
    "* `import numpy as np` is a standard convention of importing NumPy.  "
   ]
  },
  {
   "cell_type": "markdown",
   "metadata": {},
   "source": [
    "### 3.1 Arrays"
   ]
  },
  {
   "cell_type": "markdown",
   "metadata": {},
   "source": [
    "* The feature of **NumPy** is **Array**.\n",
    "* An array is close to the list data type, but it is extended with several useful methods."
   ]
  },
  {
   "cell_type": "code",
   "execution_count": 31,
   "metadata": {},
   "outputs": [
    {
     "name": "stdout",
     "output_type": "stream",
     "text": [
      "[0. 0. 0. 0. 0.]\n",
      "1...6:\n",
      "[0 1 2 3 4 5 6]\n",
      "An element of c:\n",
      "12\n",
      "Length: 6\n"
     ]
    }
   ],
   "source": [
    "# you can create an array of zeros\n",
    "a = np.zeros(5)\n",
    "print(a)\n",
    "\n",
    "# or an array of consecutive numbers\n",
    "b = np.arange(7)\n",
    "print('1...6:')\n",
    "print(b)\n",
    "\n",
    "# or even an array from a list\n",
    "c = np.array([1, 3, 5, 7, 12, 19])\n",
    "    \n",
    "print('An element of c:')\n",
    "print(c[4])\n",
    "print('Length:', len(c))"
   ]
  },
  {
   "cell_type": "markdown",
   "metadata": {},
   "source": [
    "* You can also create n-dimensional arrays: \n",
    "    * an array of arrays \n",
    "    * an array of arrays of arrays\n",
    "    * ...\n",
    "* They have additional properties which are insignificant for now, but will be exploited later during this course\n",
    "* You can transform an n-dimensional array to a plane array and vice versa just  by reshaping"
   ]
  },
  {
   "cell_type": "code",
   "execution_count": 32,
   "metadata": {},
   "outputs": [
    {
     "name": "stdout",
     "output_type": "stream",
     "text": [
      "[[1 2]\n",
      " [3 4]]\n",
      "[1 2 3 4]\n",
      "[1 2 3 4]\n",
      "[[1 2]\n",
      " [3 4]]\n",
      "2nd column: [2 4]\n",
      "1st row: [1 2]\n"
     ]
    }
   ],
   "source": [
    "# A 2-dimensional array\n",
    "a = np.array([[1, 2], [3, 4]])\n",
    "print(a)\n",
    "\n",
    "# you can change its shape to make it a 1-dimensional array\n",
    "print(a.ravel())\n",
    "print(a.reshape(4))\n",
    "\n",
    "# and vice versa\n",
    "b = a.ravel()\n",
    "print(b.reshape((2, 2)))\n",
    "\n",
    "# you can access a row or a column\n",
    "print('2nd column:', a[:, 1])\n",
    "print('1st row:', a[0, :])"
   ]
  },
  {
   "cell_type": "markdown",
   "metadata": {},
   "source": [
    "### 3.2 Functions and Operations\n",
    "\n",
    "* NumPy supports basics operations on an array and a number"
   ]
  },
  {
   "cell_type": "code",
   "execution_count": 33,
   "metadata": {},
   "outputs": [
    {
     "name": "stdout",
     "output_type": "stream",
     "text": [
      "[8. 8. 8. 8. 8. 8. 8. 8.]\n",
      "[24. 24. 24. 24. 24. 24. 24. 24.]\n",
      "[ 3. 24.  3. 24.  3. 24.  3. 24.]\n"
     ]
    }
   ],
   "source": [
    "newarray = np.zeros(8)\n",
    "# instead of adding a number in a loop,\n",
    "# you can do it in one line\n",
    "newarray += 8\n",
    "print(newarray)\n",
    "\n",
    "# the same for other basic operations\n",
    "newarray *= 3\n",
    "print(newarray)\n",
    "\n",
    "# and even with slicing\n",
    "newarray[::2] /= 8\n",
    "print(newarray)"
   ]
  },
  {
   "cell_type": "markdown",
   "metadata": {},
   "source": [
    "* Numpy also supports operations on several arrays of the same length\n",
    "* These operations are elemetwise"
   ]
  },
  {
   "cell_type": "code",
   "execution_count": 34,
   "metadata": {},
   "outputs": [
    {
     "name": "stdout",
     "output_type": "stream",
     "text": [
      "Arrays:\n",
      "[1 9 3 4]\n",
      "[0 1 2 3]\n",
      "Addition:\n",
      "[ 1 10  5  7]\n",
      "[ 1 10  5  7]\n",
      "Multiplication:\n",
      "[ 0  9  6 12]\n",
      "[ 0  9  6 12]\n",
      "Division:\n",
      "[0.         0.11111111 0.66666667 0.75      ]\n",
      "[0.         0.11111111 0.66666667 0.75      ]\n"
     ]
    }
   ],
   "source": [
    "arr_1 = np.array([1, 9, 3, 4])\n",
    "arr_2 = np.arange(4)\n",
    "print('Arrays:')\n",
    "print(arr_1)\n",
    "print(arr_2)\n",
    "\n",
    "print('Addition:')\n",
    "print(arr_1 + arr_2)\n",
    "print(np.add(arr_1, arr_2)) # the same\n",
    "\n",
    "print('Multiplication:')\n",
    "print(arr_1 * arr_2)\n",
    "print(np.multiply(arr_1, arr_2)) # the same\n",
    "\n",
    "print('Division:')\n",
    "print(arr_2 / arr_1)\n",
    "print(np.divide(1.0 * arr_2, arr_1)) # the same"
   ]
  },
  {
   "cell_type": "markdown",
   "metadata": {},
   "source": [
    "* NumPy provides one with a rich variaty of mathematical functions\n",
    "* Atomic functions ($\\sin(x)$, $\\cos(x)$, $\\ln(x)$, $x^p$, $e^x, \\dots$) are elementwise\n",
    "* There are several functions, which allows one to compute statistics:\n",
    "    * mean of the elements of an array\n",
    "    * standard deviation\n",
    "    * ..."
   ]
  },
  {
   "cell_type": "code",
   "execution_count": 35,
   "metadata": {},
   "outputs": [
    {
     "name": "stdout",
     "output_type": "stream",
     "text": [
      "x:\n",
      "[0.  0.2 0.4 0.6 0.8 1. ]\n",
      "Mean x:\n",
      "0.5\n",
      "Std x:\n",
      "0.3415650255319866\n",
      "x^2:\n",
      "[0.   0.04 0.16 0.36 0.64 1.  ]\n",
      "[0.   0.04 0.16 0.36 0.64 1.  ]\n",
      "[0.   0.04 0.16 0.36 0.64 1.  ]\n",
      "[0.   0.04 0.16 0.36 0.64 1.  ]\n",
      "sin(x):\n",
      "[0.         0.19866933 0.38941834 0.56464247 0.71735609 0.84147098]\n",
      "Mean e^x:\n",
      "1.7465281688572436\n"
     ]
    }
   ],
   "source": [
    "x = np.linspace(0, 1, 6)\n",
    "print('x:')\n",
    "print(x)\n",
    "\n",
    "print('Mean x:')\n",
    "print(np.mean(x))\n",
    "\n",
    "print('Std x:')\n",
    "print(x.std())\n",
    "\n",
    "print('x^2:')\n",
    "print(x*x) # as elementwise product\n",
    "print(np.square(x)) # with a special function\n",
    "print(np.power(x, 2)) # as a power function with power=2\n",
    "print(x**2) # as you are expected to do it with a number\n",
    "\n",
    "print('sin(x):')\n",
    "print(np.sin(x))\n",
    "\n",
    "print('Mean e^x:')\n",
    "print(np.mean(np.exp(x)))"
   ]
  },
  {
   "cell_type": "markdown",
   "metadata": {},
   "source": [
    "### 3.3 Miscellaneous"
   ]
  },
  {
   "cell_type": "code",
   "execution_count": 36,
   "metadata": {},
   "outputs": [
    {
     "name": "stdout",
     "output_type": "stream",
     "text": [
      "x = [0.         0.34906585 0.6981317  1.04719755 1.3962634  1.74532925\n",
      " 2.0943951  2.44346095 2.7925268  3.14159265] \n",
      "\n",
      "y = [ 1.          0.29690501 -0.21876331 -0.3660254  -0.16837197  0.16837197\n",
      "  0.3660254   0.21876331 -0.29690501 -1.        ] \n",
      "\n",
      "mask = [ True  True False False False  True  True  True False False] \n",
      "\n",
      "positive y = [1.         0.29690501 0.16837197 0.3660254  0.21876331] \n",
      "\n"
     ]
    }
   ],
   "source": [
    "# Indexing\n",
    "x = np.linspace(0, np.pi, 10)\n",
    "y = np.cos(x) - np.sin(2 * x)\n",
    "print('x =', x, '\\n')\n",
    "print('y =', y, '\\n')\n",
    "# we can create the boolean mask of elements and pass it as indices\n",
    "mask = y > 0\n",
    "print('mask =', mask, '\\n')\n",
    "print('positive y =', y[mask], '\\n')"
   ]
  },
  {
   "cell_type": "code",
   "execution_count": 37,
   "metadata": {},
   "outputs": [
    {
     "name": "stdout",
     "output_type": "stream",
     "text": [
      "0.29842051582204154\n",
      "Array of random variables\n",
      "[ 6.3191039  -0.66276988 -0.95906233]\n",
      "N(x|m=0, s=0.1):\n",
      "[ 0.07665018 -0.03166857  0.1164836   0.08258634]\n"
     ]
    }
   ],
   "source": [
    "# NumPy has `random` package\n",
    "x = np.random.random()\n",
    "print(x)\n",
    "\n",
    "# uniform [-2, 8)\n",
    "rand_arr = np.random.uniform(-2, 8, size=3)\n",
    "print('Array of random variables')\n",
    "print(rand_arr)\n",
    "\n",
    "# here is the normal distribution\n",
    "print('N(x|m=0, s=0.1):')\n",
    "print(np.random.normal(scale=0.1, size=4))"
   ]
  },
  {
   "cell_type": "code",
   "execution_count": 38,
   "metadata": {},
   "outputs": [
    {
     "name": "stdout",
     "output_type": "stream",
     "text": [
      "(array([3], dtype=int64),)\n",
      "2\n",
      "[-1  1  2  5]\n"
     ]
    }
   ],
   "source": [
    "# fast search\n",
    "x = np.array([1, 2, 5, -1])\n",
    "print(np.where(x < 0))\n",
    "\n",
    "# retrieve the index of max element\n",
    "print(np.argmax(x))\n",
    "\n",
    "# sory array\n",
    "print(np.sort(x))"
   ]
  },
  {
   "cell_type": "markdown",
   "metadata": {},
   "source": [
    "* There is a lot which you can do with Numpy. \n",
    "* For further study and practice of Numpy, we refer you to this [tutorial](http://scipy.github.io/old-wiki/pages/Tentative_NumPy_Tutorial)\n",
    "* Here is a good [list](https://github.com/rougier/numpy-100) of numpy tasks.\n",
    "* You can also check other packages from **[SciPy](https://www.scipy.org)** ecosystem.\n",
    "* You may also be interested in [**scikit-learn**](http://scikit-learn.org/stable/) - tools for machine learning in Python"
   ]
  },
  {
   "cell_type": "markdown",
   "metadata": {},
   "source": [
    "## 4. Visualization with Matplotlib"
   ]
  },
  {
   "cell_type": "markdown",
   "metadata": {},
   "source": [
    "* We use **Matplotlib** for plots and data visualization\n",
    "* There is a [tutorial](http://matplotlib.org/users/pyplot_tutorial.html).\n",
    "* Here are some examples from Matplotlib gallery\n",
    "\n",
    "<link rel=\"stylesheet\" href=\"https://maxcdn.bootstrapcdn.com/bootstrap/4.0.0-beta.2/css/bootstrap.min.css\" integrity=\"sha384-PsH8R72JQ3SOdhVi3uxftmaW6Vc51MKb0q5P2rRUpPvrszuE4W1povHYgTpBfshb\" crossorigin=\"anonymous\">\n",
    "\n",
    "<div class=\"container\" style=\"max-width:100%\">\n",
    "    <div class=\"row\">\n",
    "        <div class=\"col-sm-6\" style=\"display: flex; height: 300px;\">\n",
    "            <img src=\"http://matplotlib.org/_images/fill_demo1.png\" \n",
    "                 style=\"max-width: 100%; max-height: 100%; margin: auto;\">\n",
    "        </div>\n",
    "            <div class=\"col-sm-6\" style=\"display: flex; height: 300px;\">\n",
    "        <img src=\"http://matplotlib.org/_images/errorbar_limits.png\" \n",
    "             style=\"max-width: 100%; max-height: 100%; margin: auto;\">\n",
    "        </div>\n",
    "    </div>\n",
    "    <div class=\"row\">\n",
    "        <div class=\"col-sm-6\" style=\"display: flex; height: 300px;\">\n",
    "            <img src=\"http://matplotlib.org/_images/subplot_demo.png\" \n",
    "                 style=\"max-width: 100%; max-height: 100%; margin: auto;\">\n",
    "        </div>\n",
    "        <div class=\"col-sm-6\" style=\"display: flex; height: 300px;\">\n",
    "            <img src=\"http://matplotlib.org/_images/histogram_demo_features2.png\" \n",
    "                 style=\"max-width: 100%; max-height: 100%; margin: auto;\">\n",
    "        </div>\n",
    "    </div>\n",
    "</div>"
   ]
  },
  {
   "cell_type": "code",
   "execution_count": 39,
   "metadata": {},
   "outputs": [],
   "source": [
    "# We import `pyplot` from `matplotlib` as `plt`\n",
    "import matplotlib.pyplot as plt\n",
    "\n",
    "# We add %matplotlib flag to specify how the figures should be shown\n",
    "#     inline - static pictures in notebook\n",
    "#     notebook - interactive graphics\n",
    "%matplotlib inline"
   ]
  },
  {
   "cell_type": "code",
   "execution_count": 40,
   "metadata": {},
   "outputs": [
    {
     "data": {
      "text/plain": "<Figure size 432x288 with 1 Axes>",
      "image/png": "[encoded data removed]"
     },
     "metadata": {
      "needs_background": "light"
     },
     "output_type": "display_data"
    }
   ],
   "source": [
    "# let's plot a simple example\n",
    "x = np.arange(100)\n",
    "y = x ** 2 - x\n",
    "\n",
    "plt.plot(y) \n",
    "plt.show() # that's it"
   ]
  },
  {
   "cell_type": "code",
   "execution_count": 41,
   "metadata": {},
   "outputs": [
    {
     "data": {
      "text/plain": "<Figure size 576x360 with 1 Axes>",
      "image/png": "[encoded data removed]"
     },
     "metadata": {
      "needs_background": "light"
     },
     "output_type": "display_data"
    }
   ],
   "source": [
    "# A more complex example\n",
    "n_samples = 100\n",
    "x = np.linspace(0.0, 1.0, n_samples)\n",
    "y = x**3 / (np.exp(10 * x + 1e-8) - 1)\n",
    "y /= y.max()\n",
    "y_samples = np.abs(y + 0.1 * y * np.random.normal(size=n_samples))\n",
    "\n",
    "\n",
    "plt.figure(figsize=(8, 5))\n",
    "plt.plot(x, y_samples, 'o', c='orange', label='experiment')\n",
    "plt.plot(x, y, lw=3, label='theory')\n",
    "plt.grid()\n",
    "plt.title(\"Planck's law\", fontsize=18)\n",
    "plt.legend(loc='best', fontsize=14)\n",
    "plt.ylabel('Relative spectral radiance', fontsize=14)\n",
    "plt.xlabel('Relative frequency', fontsize=14)\n",
    "plt.show()"
   ]
  },
  {
   "cell_type": "markdown",
   "metadata": {},
   "source": [
    "## 5. Nearest Neighbor Classification"
   ]
  },
  {
   "cell_type": "markdown",
   "metadata": {},
   "source": [
    "* We have a dataset of objects of several classes\n",
    "* We expect two objects from the same class to be close\n",
    "* Two objects from different classes are supposed to be distant\n",
    "* The query object is supposed to have the same class as its nearest neighbor"
   ]
  },
  {
   "cell_type": "markdown",
   "metadata": {},
   "source": [
    "### 5.1 Digits Dataset\n",
    "\n",
    "* It contains handwritten digits 0 through 9\n",
    "* Each object is an $8 \\times 8$ grayscale image\n",
    "* We consider each pixel of the image as a separate feature of the object"
   ]
  },
  {
   "cell_type": "code",
   "execution_count": 42,
   "metadata": {},
   "outputs": [
    {
     "data": {
      "text/plain": "<Figure size 432x288 with 10 Axes>",
      "image/png": "[encoded data removed]"
     },
     "metadata": {
      "needs_background": "light"
     },
     "output_type": "display_data"
    }
   ],
   "source": [
    "import sklearn.datasets\n",
    "\n",
    "# We load the dataset\n",
    "digits = sklearn.datasets.load_digits()\n",
    "\n",
    "# Here we load up the images and labels and print some examples\n",
    "images_and_labels = list(zip(digits.images, digits.target))\n",
    "for index, (image, label) in enumerate(images_and_labels[:10]):\n",
    "    plt.subplot(2, 5, index + 1)\n",
    "    plt.axis('off')\n",
    "    plt.imshow(image, cmap=plt.cm.gray_r, interpolation='nearest')\n",
    "    plt.title('Training: {}'.format(label), y=1.1)\n",
    "plt.show()"
   ]
  },
  {
   "cell_type": "code",
   "execution_count": 43,
   "metadata": {},
   "outputs": [
    {
     "data": {
      "text/plain": "<Figure size 432x288 with 10 Axes>",
      "image/png": "[encoded data removed]"
     },
     "metadata": {
      "needs_background": "light"
     },
     "output_type": "display_data"
    }
   ],
   "source": [
    "images_1 = digits.images[digits.target == 1]\n",
    "images_5 = digits.images[digits.target == 5]\n",
    "\n",
    "for i in range(5):\n",
    "    plt.subplot(2, 5, i + 1)\n",
    "    plt.axis('off')\n",
    "    plt.imshow(images_1[i], cmap=plt.cm.gray_r, interpolation='nearest')\n",
    "    \n",
    "    plt.subplot(2, 5, i + 6)\n",
    "    plt.axis('off')\n",
    "    plt.imshow(images_5[i], cmap=plt.cm.gray_r, interpolation='nearest')\n",
    "plt.show()"
   ]
  },
  {
   "cell_type": "markdown",
   "metadata": {},
   "source": [
    "* Ones look similar. Fives also looks similar\n",
    "* Fives and Ones look different"
   ]
  },
  {
   "cell_type": "markdown",
   "metadata": {},
   "source": [
    "### 5.2 Distances\n",
    "\n",
    "* In order to talk about close and distant objects, we have to define the **distance (metric)**\n",
    "* Distance is a function $F(\\cdot, \\cdot)$ of 2 elements which returns a number\n",
    "* Here are the properties of distance:\n",
    "    1. $F(x, y) \\geq 0$\n",
    "    2. $F(x, y) = 0 \\Leftrightarrow x = y$\n",
    "    3. $F(x, y) = F(y, x)$\n",
    "    4. $F(x, z) \\leq F(x, y) + F(y, z)$\n",
    "\n",
    "* Let's look at the **Eucledian distance** as it is the most intuitive for us:\n",
    "$$\n",
    "F(x, y) = \\sqrt{\\sum_{i=1}^{d} (x_{i} - y_{i})^{2}}.\n",
    "$$\n",
    "\n",
    "Now it is time to implement it."
   ]
  },
  {
   "cell_type": "code",
   "execution_count": 66,
   "metadata": {},
   "outputs": [],
   "source": [
    "# First of all, let's implement it in the most trivial way\n",
    "# without using numpy arrays, just to understand what is going on\n",
    "def euclidean_distance_simple(x, y):\n",
    "    # First, make sure x and y are of equal length.\n",
    "    assert(len(x) == len(y))\n",
    "    return np.sqrt(sum([(xi-yi)**2 for xi,yi in zip(x,y)]))"
   ]
  },
  {
   "cell_type": "code",
   "execution_count": 67,
   "metadata": {},
   "outputs": [],
   "source": [
    "x1 = np.array([0.,0.])\n",
    "y1 = np.array([5.,2.])\n",
    "\n",
    "x2 = np.array([0.,1.,3.])\n",
    "y2 = np.array([9.,1.,4.5])"
   ]
  },
  {
   "cell_type": "markdown",
   "metadata": {
    "pycharm": {
     "name": "#%% md\n"
    }
   },
   "source": [
    "Now you can test your functions. The expected values are **5.385...** and **9.124...**"
   ]
  },
  {
   "cell_type": "code",
   "execution_count": 68,
   "metadata": {},
   "outputs": [
    {
     "name": "stdout",
     "output_type": "stream",
     "text": [
      "5.385164807134504\n",
      "9.12414379544733\n"
     ]
    }
   ],
   "source": [
    "print(euclidean_distance_simple(x1, y1))\n",
    "print(euclidean_distance_simple(x2, y2))"
   ]
  },
  {
   "cell_type": "code",
   "execution_count": 69,
   "metadata": {},
   "outputs": [],
   "source": [
    "# Let's implement it in a more effective way\n",
    "# use numpy arrays\n",
    "# use all the benefits of numpy \n",
    "def euclidean_distance_numpy(x, y):\n",
    "    # x, y - numpy arrays\n",
    "    assert(len(x) == len(y))\n",
    "    return np.sqrt(((x-y)**2).sum())"
   ]
  },
  {
   "cell_type": "code",
   "execution_count": 70,
   "metadata": {},
   "outputs": [
    {
     "name": "stdout",
     "output_type": "stream",
     "text": [
      "5.385164807134504\n",
      "9.12414379544733\n"
     ]
    }
   ],
   "source": [
    "print(euclidean_distance_numpy(x1, y1))\n",
    "print(euclidean_distance_numpy(x2, y2))"
   ]
  },
  {
   "cell_type": "markdown",
   "metadata": {},
   "source": [
    "### 5.3 Performance Experiments\n",
    "\n",
    "* We implemented the Euclidean distance in 2 ways. Now we are able to compare their performance\n",
    "* We measure the time consumption of the functions\n",
    "* We test the perfomance of them while being executed with random vectors of certain sizes"
   ]
  },
  {
   "cell_type": "code",
   "execution_count": 71,
   "metadata": {},
   "outputs": [],
   "source": [
    "import time\n",
    "\n",
    "sizes = range(1, 1000, 10)\n",
    "\n",
    "res_simple = []\n",
    "res_numpy = []\n",
    "\n",
    "\n",
    "for size in sizes:\n",
    "    \n",
    "    x = np.random.random(size=size)\n",
    "    y = np.random.random(size=size)\n",
    "    \n",
    "    time_0 = time.time()\n",
    "    _ = euclidean_distance_simple(x, y)\n",
    "    res_simple.append(time.time() - time_0)\n",
    "    \n",
    "    time_0 = time.time()\n",
    "    _ = euclidean_distance_numpy(x, y)\n",
    "    res_numpy.append(time.time() - time_0)\n",
    "            \n",
    "res_simple = np.array(res_simple)\n",
    "res_numpy = np.array(res_numpy)"
   ]
  },
  {
   "cell_type": "code",
   "execution_count": 72,
   "metadata": {},
   "outputs": [
    {
     "data": {
      "text/plain": "<Figure size 648x360 with 1 Axes>",
      "image/png": "[encoded data removed]"
     },
     "metadata": {
      "needs_background": "light"
     },
     "output_type": "display_data"
    }
   ],
   "source": [
    "plt.figure(figsize=(9, 5))\n",
    "    \n",
    "plt.plot(sizes, 10**6 * res_simple, lw=3, label='simple') \n",
    "plt.plot(sizes, 10**6 * res_numpy, lw=3, label='numpy') \n",
    "    \n",
    "plt.legend(loc='best', fontsize=14)\n",
    "plt.xlabel('size', fontsize=15)\n",
    "plt.ylabel('times, mks', fontsize=15)\n",
    "plt.grid()\n",
    "plt.show()"
   ]
  },
  {
   "cell_type": "markdown",
   "metadata": {},
   "source": [
    "* Pure Python works slower than NumPy\n",
    "* Always use NumPy when it is possible"
   ]
  },
  {
   "cell_type": "markdown",
   "metadata": {
    "collapsed": true
   },
   "source": [
    "### 5.4 Classification\n",
    "\n",
    "* We should divide our dataset into a training set and a test set.\n",
    "* In order to predict the class of an object, we will iterate over the objects in the training set\n",
    "* The predicted class is the class of the closest object"
   ]
  },
  {
   "cell_type": "code",
   "execution_count": 73,
   "metadata": {},
   "outputs": [],
   "source": [
    "n_objects = digits.images.shape[0]\n",
    "train_test_split = 0.7\n",
    "train_size = int(n_objects * train_test_split)\n",
    "indices = np.arange(n_objects)\n",
    "np.random.shuffle(indices)\n",
    "\n",
    "train_indices, test_indices = indices[:train_size], indices[train_size:]\n",
    "train_images, train_targets = digits.images[train_indices], digits.target[train_indices]\n",
    "test_images, test_targets = digits.images[test_indices], digits.target[test_indices]"
   ]
  },
  {
   "cell_type": "code",
   "execution_count": 74,
   "metadata": {},
   "outputs": [],
   "source": [
    "train_images = train_images.reshape((-1, 64))\n",
    "test_images = test_images.reshape((-1, 64))"
   ]
  },
  {
   "cell_type": "code",
   "execution_count": 75,
   "metadata": {},
   "outputs": [],
   "source": [
    "def predict_object_class(vec, x_train, y_train):\n",
    "    # vec.shape: [64]\n",
    "    # x_train.shape: [N_objects, 64]\n",
    "    # y_train.shape: [N_objects]\n",
    "    euclidean_distance_numpy(vec, x_train)"
   ]
  },
  {
   "cell_type": "code",
   "execution_count": 76,
   "metadata": {},
   "outputs": [],
   "source": [
    "def predict(x, x_train, y_train):\n",
    "    # it is not the best way, but it is easy to understand\n",
    "    classes = []\n",
    "    for vec in x:\n",
    "        predicted_cls = predict_object_class(vec, x_train, y_train)\n",
    "        classes.append(predicted_cls)\n",
    "    return np.array(classes)"
   ]
  },
  {
   "cell_type": "code",
   "execution_count": 77,
   "metadata": {
    "scrolled": false
   },
   "outputs": [
    {
     "name": "stdout",
     "output_type": "stream",
     "text": [
      "Accuracy 0.0%\n"
     ]
    }
   ],
   "source": [
    "predicted_targets = predict(test_images, train_images, train_targets)\n",
    "accuracy = np.mean(predicted_targets == test_targets)\n",
    "print(\"Accuracy {:.1f}%\".format(accuracy * 100))"
   ]
  },
  {
   "cell_type": "code",
   "execution_count": null,
   "metadata": {},
   "outputs": [],
   "source": [
    "correct = predicted_targets == test_targets\n",
    "incorrect = ~correct\n",
    "\n",
    "\n",
    "f, axes = plt.subplots(2, 5, figsize=(8, 3))\n",
    "\n",
    "\n",
    "for ax, image, y_pred, y_test in zip(axes[0], \n",
    "                                     test_images[correct], \n",
    "                                     predicted_targets[correct], \n",
    "                                     test_targets[correct]):\n",
    "    \n",
    "    ax.imshow(image.reshape((8, 8)), cmap=plt.cm.gray_r, interpolation='nearest')\n",
    "    ax.set_title('Pred: {}, Real: {}'.format(y_pred, y_test))\n",
    "    ax.set_axis_off()\n",
    "    \n",
    "for ax, image, y_pred, y_test in zip(axes[1], \n",
    "                                     test_images[incorrect], \n",
    "                                     predicted_targets[incorrect], \n",
    "                                     test_targets[incorrect]):\n",
    "    \n",
    "    ax.imshow(image.reshape((8, 8)), cmap=plt.cm.gray_r, interpolation='nearest')\n",
    "    ax.set_title('Pred: {}, True: {}'.format(y_pred, y_test))\n",
    "    ax.set_axis_off()\n",
    "    \n",
    "\n",
    "plt.tight_layout()\n",
    "plt.show()"
   ]
  },
  {
   "cell_type": "markdown",
   "metadata": {},
   "source": [
    "* You can try to use other <a href=\"https://en.wikipedia.org/wiki/Metric_(mathematics)#Examples\">metrics</a>\n",
    "* You can experiment with other datasets:\n",
    "    * **MNIST**: \n",
    "        1. [Download](http://yann.lecun.com/exdb/mnist/)\n",
    "        2. `from dataset_utils import load_mnist`\n",
    "        3. `train = list(load_mnist('training', path='<PATH TO A FOLDER>'))`\n",
    "    * **CIFAR-10** & **CIFAR-100**:\n",
    "        1. [Download](https://www.cs.toronto.edu/~kriz/cifar.html)\n",
    "        2. `from dataset_utils import load_cifar`\n",
    "        3. `data = load_cifar('<PATH TO A FILE>')`\n",
    "        "
   ]
  },
  {
   "cell_type": "markdown",
   "metadata": {
    "collapsed": true
   },
   "source": [
    "## 6. Linear Algebra Basics\n",
    "* This introduction is devoted to Python and NumPy basics. \n",
    "* We used 1-dimensional NumPy arrays for data manipulation. \n",
    "* During the coming assignments, n-dimensional (2, 3 and even 4-dimensional) arrays will be exploited\n",
    "* In order to make it easier, we provide you with several useful links\n",
    "    * [Linear Algebra Review and Reference](http://cs229.stanford.edu/section/cs229-linalg.pdf). Chapters **1.1-3.2, 3.5** provide one with almost all the necessities of linear algebra for deep learning\n",
    "    * [The Matrix Cookbook](https://www.math.uwaterloo.ca/~hwolkowi/matrixcookbook.pdf) could be used as a cheat sheet\n",
    "    * [Deep Learning](http://www.deeplearningbook.org) is an ultimate book. An explanation of any aspects of deep learning could be found there."
   ]
  },
  {
   "cell_type": "code",
   "execution_count": null,
   "metadata": {
    "collapsed": true
   },
   "outputs": [],
   "source": []
  }
 ],
 "metadata": {
  "file_extension": ".py",
  "kernelspec": {
   "display_name": "Python 3",
   "language": "python",
   "name": "python3"
  },
  "language_info": {
   "codemirror_mode": {
    "name": "ipython",
    "version": 3
   },
   "file_extension": ".py",
   "mimetype": "text/x-python",
   "name": "python",
   "nbconvert_exporter": "python",
   "pygments_lexer": "ipython3",
   "version": "3.7.3"
  },
  "mimetype": "text/x-python",
  "name": "python",
  "npconvert_exporter": "python",
  "pygments_lexer": "ipython3",
  "version": 3
 },
 "nbformat": 4,
 "nbformat_minor": 2
}